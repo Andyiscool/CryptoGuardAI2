{
 "cells": [
  {
   "cell_type": "code",
   "execution_count": 2,
   "id": "b9e6feb8-31ab-49c5-8d2e-903ca253d65c",
   "metadata": {},
   "outputs": [
    {
     "ename": "SyntaxError",
     "evalue": "invalid syntax (4191576380.py, line 1)",
     "output_type": "error",
     "traceback": [
      "\u001b[0;36m  Cell \u001b[0;32mIn[2], line 1\u001b[0;36m\u001b[0m\n\u001b[0;31m    python3 Phish_detector.py\u001b[0m\n\u001b[0m            ^\u001b[0m\n\u001b[0;31mSyntaxError\u001b[0m\u001b[0;31m:\u001b[0m invalid syntax\n"
     ]
    }
   ],
   "source": [
    "python3 Phish_detector.py "
   ]
  },
  {
   "cell_type": "code",
   "execution_count": 3,
   "id": "ca122570-a738-4ef2-a27b-a1397ab4a29c",
   "metadata": {},
   "outputs": [
    {
     "name": "stdout",
     "output_type": "stream",
     "text": [
      "/Users/andyxiao/PostGrad Projects/CryptoGuard AI\n"
     ]
    }
   ],
   "source": [
    "cd /Users/andyxiao/PostGrad Projects/CryptoGuard AI"
   ]
  },
  {
   "cell_type": "code",
   "execution_count": 2,
   "id": "6e1788cc-3fb4-44a0-9567-b4024a48d3ee",
   "metadata": {},
   "outputs": [
    {
     "ename": "SyntaxError",
     "evalue": "invalid syntax (3960512171.py, line 1)",
     "output_type": "error",
     "traceback": [
      "\u001b[0;36m  Cell \u001b[0;32mIn[2], line 1\u001b[0;36m\u001b[0m\n\u001b[0;31m    python Main.py\u001b[0m\n\u001b[0m           ^\u001b[0m\n\u001b[0;31mSyntaxError\u001b[0m\u001b[0;31m:\u001b[0m invalid syntax\n"
     ]
    }
   ],
   "source": [
    "python Main.py"
   ]
  },
  {
   "cell_type": "code",
   "execution_count": null,
   "id": "6036b656-33f1-447f-881c-9fd5a5b3b0de",
   "metadata": {},
   "outputs": [
    {
     "name": "stdout",
     "output_type": "stream",
     "text": [
      " * Serving Flask app 'app'\n",
      " * Debug mode: on\n",
      "\u001b[31m\u001b[1mWARNING: This is a development server. Do not use it in a production deployment. Use a production WSGI server instead.\u001b[0m\n",
      " * Running on http://127.0.0.1:5000\n",
      "\u001b[33mPress CTRL+C to quit\u001b[0m\n",
      " * Restarting with watchdog (fsevents)\n",
      " * Debugger is active!\n",
      " * Debugger PIN: 834-031-784\n",
      "127.0.0.1 - - [29/Aug/2024 16:47:37] \"\u001b[35m\u001b[1mGET / HTTP/1.1\u001b[0m\" 500 -\n",
      "Traceback (most recent call last):\n",
      "  File \"/Users/andyxiao/anaconda3/lib/python3.11/site-packages/flask/app.py\", line 1498, in __call__\n",
      "    return self.wsgi_app(environ, start_response)\n",
      "           ^^^^^^^^^^^^^^^^^^^^^^^^^^^^^^^^^^^^^^\n",
      "  File \"/Users/andyxiao/anaconda3/lib/python3.11/site-packages/flask/app.py\", line 1476, in wsgi_app\n",
      "    response = self.handle_exception(e)\n",
      "               ^^^^^^^^^^^^^^^^^^^^^^^^\n",
      "  File \"/Users/andyxiao/anaconda3/lib/python3.11/site-packages/flask/app.py\", line 1473, in wsgi_app\n",
      "    response = self.full_dispatch_request()\n",
      "               ^^^^^^^^^^^^^^^^^^^^^^^^^^^^\n",
      "  File \"/Users/andyxiao/anaconda3/lib/python3.11/site-packages/flask/app.py\", line 882, in full_dispatch_request\n",
      "    rv = self.handle_user_exception(e)\n",
      "         ^^^^^^^^^^^^^^^^^^^^^^^^^^^^^\n",
      "  File \"/Users/andyxiao/anaconda3/lib/python3.11/site-packages/flask/app.py\", line 880, in full_dispatch_request\n",
      "    rv = self.dispatch_request()\n",
      "         ^^^^^^^^^^^^^^^^^^^^^^^\n",
      "  File \"/Users/andyxiao/anaconda3/lib/python3.11/site-packages/flask/app.py\", line 865, in dispatch_request\n",
      "    return self.ensure_sync(self.view_functions[rule.endpoint])(**view_args)  # type: ignore[no-any-return]\n",
      "           ^^^^^^^^^^^^^^^^^^^^^^^^^^^^^^^^^^^^^^^^^^^^^^^^^^^^^^^^^^^^^^^^^^^^^^^^^^^^^^^^^^^^^^^^^^^^^^^^\n",
      "  File \"/Users/andyxiao/PostGradProjects/CryptoGuardAI/app.py\", line 31, in upload_file\n",
      "    return render_template('item.html')\n",
      "           ^^^^^^^^^^^^^^^^^^^^^^^^^^^^\n",
      "  File \"/Users/andyxiao/anaconda3/lib/python3.11/site-packages/flask/templating.py\", line 149, in render_template\n",
      "    template = app.jinja_env.get_or_select_template(template_name_or_list)\n",
      "               ^^^^^^^^^^^^^^^^^^^^^^^^^^^^^^^^^^^^^^^^^^^^^^^^^^^^^^^^^^^\n",
      "  File \"/Users/andyxiao/anaconda3/lib/python3.11/site-packages/jinja2/environment.py\", line 1084, in get_or_select_template\n",
      "    return self.get_template(template_name_or_list, parent, globals)\n",
      "           ^^^^^^^^^^^^^^^^^^^^^^^^^^^^^^^^^^^^^^^^^^^^^^^^^^^^^^^^^\n",
      "  File \"/Users/andyxiao/anaconda3/lib/python3.11/site-packages/jinja2/environment.py\", line 1013, in get_template\n",
      "    return self._load_template(name, globals)\n",
      "           ^^^^^^^^^^^^^^^^^^^^^^^^^^^^^^^^^^\n",
      "  File \"/Users/andyxiao/anaconda3/lib/python3.11/site-packages/jinja2/environment.py\", line 972, in _load_template\n",
      "    template = self.loader.load(self, name, self.make_globals(globals))\n",
      "               ^^^^^^^^^^^^^^^^^^^^^^^^^^^^^^^^^^^^^^^^^^^^^^^^^^^^^^^^\n",
      "  File \"/Users/andyxiao/anaconda3/lib/python3.11/site-packages/jinja2/loaders.py\", line 126, in load\n",
      "    source, filename, uptodate = self.get_source(environment, name)\n",
      "                                 ^^^^^^^^^^^^^^^^^^^^^^^^^^^^^^^^^^\n",
      "  File \"/Users/andyxiao/anaconda3/lib/python3.11/site-packages/flask/templating.py\", line 65, in get_source\n",
      "    return self._get_source_fast(environment, template)\n",
      "           ^^^^^^^^^^^^^^^^^^^^^^^^^^^^^^^^^^^^^^^^^^^^\n",
      "  File \"/Users/andyxiao/anaconda3/lib/python3.11/site-packages/flask/templating.py\", line 99, in _get_source_fast\n",
      "    raise TemplateNotFound(template)\n",
      "jinja2.exceptions.TemplateNotFound: item.html\n",
      "127.0.0.1 - - [29/Aug/2024 16:47:38] \"GET /?__debugger__=yes&cmd=resource&f=debugger.js HTTP/1.1\" 200 -\n",
      "127.0.0.1 - - [29/Aug/2024 16:47:38] \"GET /?__debugger__=yes&cmd=resource&f=style.css HTTP/1.1\" 200 -\n",
      "127.0.0.1 - - [29/Aug/2024 16:47:38] \"GET /?__debugger__=yes&cmd=resource&f=console.png HTTP/1.1\" 200 -\n",
      "127.0.0.1 - - [29/Aug/2024 16:47:38] \"\u001b[36mGET /?__debugger__=yes&cmd=resource&f=console.png HTTP/1.1\u001b[0m\" 304 -\n"
     ]
    }
   ],
   "source": [
    "!python3 /Users/andyxiao/PostGradProjects/CryptoGuardAI/app.py"
   ]
  },
  {
   "cell_type": "code",
   "execution_count": 7,
   "id": "12640a37-f643-4343-910f-3c7a2ec493b4",
   "metadata": {},
   "outputs": [
    {
     "name": "stdout",
     "output_type": "stream",
     "text": [
      "\u001b[33mDEPRECATION: Loading egg at /Users/andyxiao/anaconda3/lib/python3.11/site-packages/sklearn-0.0.post11-py3.11.egg is deprecated. pip 23.3 will enforce this behaviour change. A possible replacement is to use pip for package installation..\u001b[0m\u001b[33m\n",
      "\u001b[0m\u001b[33mDEPRECATION: Loading egg at /Users/andyxiao/anaconda3/lib/python3.11/site-packages/pyasn1_modules-0.3.0-py3.11.egg is deprecated. pip 23.3 will enforce this behaviour change. A possible replacement is to use pip for package installation..\u001b[0m\u001b[33m\n",
      "\u001b[0m\u001b[33mDEPRECATION: Loading egg at /Users/andyxiao/anaconda3/lib/python3.11/site-packages/safetensors-0.4.1-py3.11-macosx-10.9-x86_64.egg is deprecated. pip 23.3 will enforce this behaviour change. A possible replacement is to use pip for package installation..\u001b[0m\u001b[33m\n",
      "\u001b[0m\u001b[33mDEPRECATION: Loading egg at /Users/andyxiao/anaconda3/lib/python3.11/site-packages/fsspec-2023.10.0-py3.11.egg is deprecated. pip 23.3 will enforce this behaviour change. A possible replacement is to use pip for package installation..\u001b[0m\u001b[33m\n",
      "\u001b[0m\u001b[33mDEPRECATION: Loading egg at /Users/andyxiao/anaconda3/lib/python3.11/site-packages/fonttools-4.45.1-py3.11-macosx-10.9-x86_64.egg is deprecated. pip 23.3 will enforce this behaviour change. A possible replacement is to use pip for package installation..\u001b[0m\u001b[33m\n",
      "\u001b[0m\u001b[33mDEPRECATION: Loading egg at /Users/andyxiao/anaconda3/lib/python3.11/site-packages/timm-0.9.12-py3.11.egg is deprecated. pip 23.3 will enforce this behaviour change. A possible replacement is to use pip for package installation..\u001b[0m\u001b[33m\n",
      "\u001b[0m\u001b[33mDEPRECATION: Loading egg at /Users/andyxiao/anaconda3/lib/python3.11/site-packages/huggingface_hub-0.19.4-py3.11.egg is deprecated. pip 23.3 will enforce this behaviour change. A possible replacement is to use pip for package installation..\u001b[0m\u001b[33m\n",
      "\u001b[0mRequirement already satisfied: Flask in /Users/andyxiao/anaconda3/lib/python3.11/site-packages (3.0.3)\n",
      "Requirement already satisfied: Werkzeug>=3.0.0 in /Users/andyxiao/anaconda3/lib/python3.11/site-packages (from Flask) (3.0.3)\n",
      "Requirement already satisfied: Jinja2>=3.1.2 in /Users/andyxiao/anaconda3/lib/python3.11/site-packages (from Flask) (3.1.4)\n",
      "Requirement already satisfied: itsdangerous>=2.1.2 in /Users/andyxiao/anaconda3/lib/python3.11/site-packages (from Flask) (2.2.0)\n",
      "Requirement already satisfied: click>=8.1.3 in /Users/andyxiao/anaconda3/lib/python3.11/site-packages (from Flask) (8.1.7)\n",
      "Requirement already satisfied: blinker>=1.6.2 in /Users/andyxiao/anaconda3/lib/python3.11/site-packages (from Flask) (1.6.2)\n",
      "Requirement already satisfied: MarkupSafe>=2.0 in /Users/andyxiao/anaconda3/lib/python3.11/site-packages (from Jinja2>=3.1.2->Flask) (2.1.3)\n",
      "Note: you may need to restart the kernel to use updated packages.\n"
     ]
    }
   ],
   "source": [
    "pip install Flask"
   ]
  },
  {
   "cell_type": "code",
   "execution_count": null,
   "id": "d1ce9841-2acc-469e-acf1-a69c01c95a0e",
   "metadata": {},
   "outputs": [],
   "source": []
  }
 ],
 "metadata": {
  "kernelspec": {
   "display_name": "Python 3 (ipykernel)",
   "language": "python",
   "name": "python3"
  },
  "language_info": {
   "codemirror_mode": {
    "name": "ipython",
    "version": 3
   },
   "file_extension": ".py",
   "mimetype": "text/x-python",
   "name": "python",
   "nbconvert_exporter": "python",
   "pygments_lexer": "ipython3",
   "version": "3.11.9"
  }
 },
 "nbformat": 4,
 "nbformat_minor": 5
}
